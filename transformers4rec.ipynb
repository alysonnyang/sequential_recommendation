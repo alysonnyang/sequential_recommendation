{
  "nbformat": 4,
  "nbformat_minor": 0,
  "metadata": {
    "colab": {
      "provenance": [],
      "collapsed_sections": [],
      "mount_file_id": "1OoKqF4nQlxJApI3itzNXiJOnRA9-8wJx",
      "authorship_tag": "ABX9TyO81P5AicBpU5NtWR2sshVb",
      "include_colab_link": true
    },
    "kernelspec": {
      "name": "python3",
      "display_name": "Python 3"
    },
    "language_info": {
      "name": "python"
    }
  },
  "cells": [
    {
      "cell_type": "markdown",
      "metadata": {
        "id": "view-in-github",
        "colab_type": "text"
      },
      "source": [
        "<a href=\"https://colab.research.google.com/github/alysonnyang/sequential_recommendation/blob/main/transformers4rec.ipynb\" target=\"_parent\"><img src=\"https://colab.research.google.com/assets/colab-badge.svg\" alt=\"Open In Colab\"/></a>"
      ]
    },
    {
      "cell_type": "code",
      "execution_count": null,
      "metadata": {
        "id": "STFU_tToKrc7"
      },
      "outputs": [],
      "source": [
        "#pip install transformers4rec"
      ]
    },
    {
      "cell_type": "code",
      "source": [
        "#pip install torchmetrics"
      ],
      "metadata": {
        "id": "sMeOD_BDLcVR"
      },
      "execution_count": null,
      "outputs": []
    },
    {
      "cell_type": "code",
      "source": [
        "from transformers4rec import torch as tr"
      ],
      "metadata": {
        "id": "_Jy5OdBrLBPe"
      },
      "execution_count": null,
      "outputs": []
    },
    {
      "cell_type": "code",
      "source": [
        "data = tr.data"
      ],
      "metadata": {
        "id": "gEbaXJ0FODXH"
      },
      "execution_count": 7,
      "outputs": []
    },
    {
      "cell_type": "code",
      "source": [
        "data"
      ],
      "metadata": {
        "colab": {
          "base_uri": "https://localhost:8080/"
        },
        "id": "luJsMsK3OE0B",
        "outputId": "a7831830-8035-4e37-df8b-f17b4e5fe2e6"
      },
      "execution_count": 8,
      "outputs": [
        {
          "output_type": "execute_result",
          "data": {
            "text/plain": [
              "<module 'transformers4rec.data' from '/usr/local/lib/python3.7/dist-packages/transformers4rec/data/__init__.py'>"
            ]
          },
          "metadata": {},
          "execution_count": 8
        }
      ]
    },
    {
      "cell_type": "code",
      "source": [],
      "metadata": {
        "id": "qyLRQPvYOFWI"
      },
      "execution_count": null,
      "outputs": []
    }
  ]
}